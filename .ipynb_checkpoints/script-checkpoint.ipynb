{
 "cells": [
  {
   "cell_type": "code",
   "execution_count": 1,
   "id": "649e360d-1a9a-4ebf-ad9d-2cc75f6a63e8",
   "metadata": {},
   "outputs": [],
   "source": [
    "import os\n",
    "ML_PATH = os.path.expanduser(\"~\\Desktop/machine_learning/ames_dataset\")\n",
    "\n",
    "# Save a file there\n",
    "with open(os.path.join(ML_PATH, \"test.txt\"), \"w\") as f:\n",
    "    f.write(\"Hello, ML!\")\n"
   ]
  },
  {
   "cell_type": "code",
   "execution_count": null,
   "id": "cae26c14-2975-44b8-8380-474f06ea1f17",
   "metadata": {},
   "outputs": [],
   "source": []
  }
 ],
 "metadata": {
  "kernelspec": {
   "display_name": "Python 3 (ipykernel)",
   "language": "python",
   "name": "python3"
  },
  "language_info": {
   "codemirror_mode": {
    "name": "ipython",
    "version": 3
   },
   "file_extension": ".py",
   "mimetype": "text/x-python",
   "name": "python",
   "nbconvert_exporter": "python",
   "pygments_lexer": "ipython3",
   "version": "3.8.20"
  }
 },
 "nbformat": 4,
 "nbformat_minor": 5
}
